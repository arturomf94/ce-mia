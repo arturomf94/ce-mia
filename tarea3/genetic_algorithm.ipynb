{
  "nbformat": 4,
  "nbformat_minor": 0,
  "metadata": {
    "colab": {
      "name": "genetic_algorithm.ipynb",
      "version": "0.3.2",
      "provenance": [],
      "collapsed_sections": [],
      "include_colab_link": true
    },
    "kernelspec": {
      "name": "python3",
      "display_name": "Python 3"
    }
  },
  "cells": [
    {
      "cell_type": "markdown",
      "metadata": {
        "id": "view-in-github",
        "colab_type": "text"
      },
      "source": [
        "<a href=\"https://colab.research.google.com/github/arturomf94/ce-mia/blob/master/tarea3/genetic_algorithm.ipynb\" target=\"_parent\"><img src=\"https://colab.research.google.com/assets/colab-badge.svg\" alt=\"Open In Colab\"/></a>"
      ]
    },
    {
      "metadata": {
        "id": "YToilHN8Ebpj",
        "colab_type": "code",
        "outputId": "b4b20553-23ac-4471-c13b-1eec995e8bda",
        "colab": {
          "base_uri": "https://localhost:8080/",
          "height": 34
        }
      },
      "cell_type": "code",
      "source": [
        "!pip install deap"
      ],
      "execution_count": 41,
      "outputs": [
        {
          "output_type": "stream",
          "text": [
            "Requirement already satisfied: deap in /usr/local/lib/python3.6/dist-packages (1.2.2)\n"
          ],
          "name": "stdout"
        }
      ]
    },
    {
      "metadata": {
        "id": "TmmNrytwTRrF",
        "colab_type": "code",
        "colab": {}
      },
      "cell_type": "code",
      "source": [
        "import math\n",
        "import random\n",
        "from deap import creator, base, tools, algorithms"
      ],
      "execution_count": 0,
      "outputs": []
    },
    {
      "metadata": {
        "id": "zf2xOg1bTSvH",
        "colab_type": "code",
        "colab": {}
      },
      "cell_type": "code",
      "source": [
        "# get length of binary representation given bounds and precision\n",
        "def bin_len(lim_inf, lim_sup, pre):\n",
        "  return int(math.log2((lim_sup - lim_inf) * 10 ** pre) + 0.9)\n",
        "\n",
        "# return decimal given binary list and bounds\n",
        "def decimalize(bin_list, lim_inf, lim_sup):\n",
        "  bin_number = ''.join(str(e) for e in bin_list)\n",
        "  bin_int = int(bin_number, 2)\n",
        "  return lim_inf + (bin_int * (lim_sup - lim_inf) / (2 ** L - 1))"
      ],
      "execution_count": 0,
      "outputs": []
    },
    {
      "metadata": {
        "id": "EvVFrMyoHGbG",
        "colab_type": "code",
        "colab": {}
      },
      "cell_type": "code",
      "source": [
        "### I\n",
        "\n",
        "## parameters: \n",
        "\n",
        "lim_inf = -10\n",
        "lim_sup = 10\n",
        "pre = 3\n",
        "L = bin_len(lim_inf, lim_sup, pre) # length of binary rep for one x_i\n",
        "D = 10\n",
        "N = D * L # length of total potential solution in binary representation\n",
        "\n",
        "\n",
        "## objective function\n",
        "\n",
        "def obj(ind):\n",
        "  result = 0\n",
        "  for i in ind:\n",
        "    result += i**2\n",
        "  return result"
      ],
      "execution_count": 0,
      "outputs": []
    },
    {
      "metadata": {
        "id": "gEsZ65twRCZU",
        "colab_type": "code",
        "colab": {}
      },
      "cell_type": "code",
      "source": [
        "# stochastic remainder selection (no replacement) for minimzation\n",
        "from operator import attrgetter\n",
        "\n",
        "def srnr(individuals):\n",
        "  average_fit = sum(getattr(ind, 'fitness').values[0] for ind in individuals) / len(individuals)\n",
        "  selected = []\n",
        "  ascending_individuals = tools.selWorst(individuals, len(individuals))\n",
        "  descending_individuals = tools.selBest(individuals, len(individuals))\n",
        "  for i in range(len(individuals)):\n",
        "    asc_ind = ascending_individuals[i]\n",
        "    des_ind = descending_individuals[i]\n",
        "    asc_ind.fitness.expected_value = des_ind.fitness.values[0] / average_fit\n",
        "    asc_ind.fitness.expected_value_integer = math.floor(asc_ind.fitness.expected_value)\n",
        "    asc_ind.fitness.expected_value_remainder = asc_ind.fitness.expected_value - asc_ind.fitness.expected_value_integer\n",
        "    selected = selected + [asc_ind] * asc_ind.fitness.expected_value_integer\n",
        "  i = 0\n",
        "  while len(selected) < len(ascending_individuals):\n",
        "    index = i % len(ascending_individuals)\n",
        "    if random.random() < ascending_individuals[index].fitness.expected_value_remainder:\n",
        "      selected.append(ascending_individuals[index])\n",
        "    i += 1\n",
        "  return selected"
      ],
      "execution_count": 0,
      "outputs": []
    },
    {
      "metadata": {
        "id": "B1t1nBnrEnh4",
        "colab_type": "code",
        "outputId": "c9c680a4-09fb-4228-ec95-371f9659c468",
        "colab": {
          "base_uri": "https://localhost:8080/",
          "height": 85
        }
      },
      "cell_type": "code",
      "source": [
        "creator.create(\"FitnessMin\", base.Fitness, weights=(-1.0,))\n",
        "creator.create(\"Individual\", list, fitness=creator.FitnessMin)\n",
        "\n",
        "toolbox = base.Toolbox()\n",
        "\n",
        "toolbox.register(\"attr_bool\", random.randint, 0, 1)\n",
        "toolbox.register(\"individual\", tools.initRepeat, creator.Individual, toolbox.attr_bool, n = N)\n",
        "toolbox.register(\"population\", tools.initRepeat, list, toolbox.individual)\n",
        "\n",
        "def evalOneMax(individual):\n",
        "    decimal_representation = []\n",
        "    for i in range(1, D + 1):\n",
        "      lower_index = (i - 1) * L\n",
        "      higher_index = i * L\n",
        "      x = decimalize(individual[lower_index:higher_index], lim_inf, lim_sup)\n",
        "      decimal_representation.append(x)\n",
        "    return obj(decimal_representation),\n",
        "\n",
        "toolbox.register(\"evaluate\", evalOneMax)\n",
        "toolbox.register(\"mate\", tools.cxTwoPoint)\n",
        "toolbox.register(\"mutate\", tools.mutFlipBit, indpb=0.1)\n",
        "toolbox.register(\"select\", srnr)\n",
        "\n",
        "population = toolbox.population(n=300)\n",
        "\n",
        "NGEN=500\n",
        "for gen in range(NGEN):\n",
        "    offspring = algorithms.varAnd(population, toolbox, cxpb=0.5, mutpb=0.1)\n",
        "    fits = toolbox.map(toolbox.evaluate, offspring)\n",
        "    for fit, ind in zip(fits, offspring):\n",
        "        ind.fitness.values = fit\n",
        "    population = toolbox.select(offspring)    \n",
        "    # apply elitism\n",
        "    if gen > 0: \n",
        "      population = best_individual + population[:(len(population) - 1)]\n",
        "    best_individual = tools.selBest(population, k=1)\n",
        "top10 = tools.selBest(population, k=10)"
      ],
      "execution_count": 46,
      "outputs": [
        {
          "output_type": "stream",
          "text": [
            "/usr/local/lib/python3.6/dist-packages/deap/creator.py:141: RuntimeWarning: A class named 'FitnessMin' has already been created and it will be overwritten. Consider deleting previous creation of that class or rename it.\n",
            "  RuntimeWarning)\n",
            "/usr/local/lib/python3.6/dist-packages/deap/creator.py:141: RuntimeWarning: A class named 'Individual' has already been created and it will be overwritten. Consider deleting previous creation of that class or rename it.\n",
            "  RuntimeWarning)\n"
          ],
          "name": "stderr"
        }
      ]
    },
    {
      "metadata": {
        "id": "ot1YtU2EncAH",
        "colab_type": "code",
        "colab": {}
      },
      "cell_type": "code",
      "source": [
        "### II\n",
        "\n",
        "## parameters: \n",
        "\n",
        "lim_inf = -5.2\n",
        "lim_sup = 5.2\n",
        "D = 10\n",
        "N = 10\n",
        "\n",
        "\n",
        "## objective function\n",
        "\n",
        "def obj(ind):\n",
        "  result = 10 * D\n",
        "  for i in ind:\n",
        "    result += (i**2 - 10 * math.cos(2 * math.pi * i))\n",
        "  return result"
      ],
      "execution_count": 0,
      "outputs": []
    },
    {
      "metadata": {
        "id": "anSJOdEDwCuE",
        "colab_type": "code",
        "colab": {}
      },
      "cell_type": "code",
      "source": [
        "from collections import Sequence\n",
        "from itertools import repeat\n",
        "\n",
        "def mutUniformFloat(individual, low, up, indpb):\n",
        "    \"\"\"Mutate an individual by replacing attributes, with probability *indpb*,\n",
        "    by a integer uniformly drawn between *low* and *up* inclusively.\n",
        "    :param individual: :term:`Sequence <sequence>` individual to be mutated.\n",
        "    :param low: The lower bound or a :term:`python:sequence` of\n",
        "                of lower bounds of the range from wich to draw the new\n",
        "                integer.\n",
        "    :param up: The upper bound or a :term:`python:sequence` of\n",
        "               of upper bounds of the range from wich to draw the new\n",
        "               integer.\n",
        "    :param indpb: Independent probability for each attribute to be mutated.\n",
        "    :returns: A tuple of one individual.\n",
        "    \"\"\"\n",
        "    size = len(individual)\n",
        "    if not isinstance(low, Sequence):\n",
        "        low = repeat(low, size)\n",
        "    elif len(low) < size:\n",
        "        raise IndexError(\"low must be at least the size of individual: %d < %d\" % (len(low), size))\n",
        "    if not isinstance(up, Sequence):\n",
        "        up = repeat(up, size)\n",
        "    elif len(up) < size:\n",
        "        raise IndexError(\"up must be at least the size of individual: %d < %d\" % (len(up), size))\n",
        "\n",
        "    for i, xl, xu in zip(range(size), low, up):\n",
        "        if random.random() < indpb:\n",
        "            individual[i] = random.uniform(xl, xu)\n",
        "\n",
        "    return individual,\n",
        "  \n",
        "  \n",
        "def selRandomTournament(individuals, k, tournsize, prob_win, fit_attr=\"fitness\",):\n",
        "    \"\"\"Select the best individual among *tournsize* randomly chosen\n",
        "    individuals, *k* times. The list returned contains\n",
        "    references to the input *individuals*.\n",
        "    :param individuals: A list of individuals to select from.\n",
        "    :param k: The number of individuals to select.\n",
        "    :param tournsize: The number of individuals participating in each tournament.\n",
        "    :param fit_attr: The attribute of individuals to use as selection criterion\n",
        "    :returns: A list of selected individuals.\n",
        "    This function uses the :func:`~random.choice` function from the python base\n",
        "    :mod:`random` module.\n",
        "    \"\"\"\n",
        "    chosen = []\n",
        "    for i in range(k):\n",
        "        aspirants = tools.selRandom(individuals, tournsize)\n",
        "        if random.random() < prob_win:\n",
        "          chosen.append(max(aspirants, key=attrgetter(fit_attr)))\n",
        "        else:\n",
        "          chosen.append(random.choice(aspirants))\n",
        "    return chosen\n"
      ],
      "execution_count": 0,
      "outputs": []
    },
    {
      "metadata": {
        "id": "1K1SOKj0n28s",
        "colab_type": "code",
        "outputId": "e433e186-7519-4e4c-d25f-76a96860a955",
        "colab": {
          "base_uri": "https://localhost:8080/",
          "height": 85
        }
      },
      "cell_type": "code",
      "source": [
        "creator.create(\"FitnessMin\", base.Fitness, weights=(-1.0,))\n",
        "creator.create(\"Individual\", list, fitness=creator.FitnessMin)\n",
        "\n",
        "toolbox = base.Toolbox()\n",
        "\n",
        "toolbox.register(\"attr_float\", random.uniform, lim_inf, lim_sup)\n",
        "toolbox.register(\"individual\", tools.initRepeat, creator.Individual, toolbox.attr_float, n = N)\n",
        "toolbox.register(\"population\", tools.initRepeat, list, toolbox.individual)\n",
        "\n",
        "def evalOneMax(individual):\n",
        "    return obj(individual),\n",
        "\n",
        "toolbox.register(\"evaluate\", evalOneMax)\n",
        "toolbox.register(\"mate\", tools.cxSimulatedBinary, eta = 4)\n",
        "toolbox.register(\"mutate\", mutUniformFloat, low = lim_inf, up = lim_sup, indpb=0.1)\n",
        "toolbox.register(\"select\", selRandomTournament, tournsize=2, prob_win = .7)\n",
        "\n",
        "population = toolbox.population(n=300)\n",
        "\n",
        "NGEN=500\n",
        "for gen in range(NGEN):\n",
        "    offspring = algorithms.varAnd(population, toolbox, cxpb=0.5, mutpb=0.1)\n",
        "    fits = toolbox.map(toolbox.evaluate, offspring)\n",
        "    for fit, ind in zip(fits, offspring):\n",
        "        ind.fitness.values = fit\n",
        "    population = toolbox.select(offspring, k=len(population))\n",
        "    # apply elitism\n",
        "    if gen > 0: \n",
        "      population = best_individual + population[:(len(population) - 1)]\n",
        "    best_individual = tools.selBest(population, k=1)\n",
        "top10 = tools.selBest(population, k=10)"
      ],
      "execution_count": 49,
      "outputs": [
        {
          "output_type": "stream",
          "text": [
            "/usr/local/lib/python3.6/dist-packages/deap/creator.py:141: RuntimeWarning: A class named 'FitnessMin' has already been created and it will be overwritten. Consider deleting previous creation of that class or rename it.\n",
            "  RuntimeWarning)\n",
            "/usr/local/lib/python3.6/dist-packages/deap/creator.py:141: RuntimeWarning: A class named 'Individual' has already been created and it will be overwritten. Consider deleting previous creation of that class or rename it.\n",
            "  RuntimeWarning)\n"
          ],
          "name": "stderr"
        }
      ]
    }
  ]
}