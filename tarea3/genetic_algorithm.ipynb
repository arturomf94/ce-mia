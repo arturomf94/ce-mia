{
  "nbformat": 4,
  "nbformat_minor": 0,
  "metadata": {
    "colab": {
      "name": "genetic_algorithm.ipynb",
      "version": "0.3.2",
      "provenance": [],
      "collapsed_sections": [],
      "include_colab_link": true
    },
    "kernelspec": {
      "name": "python3",
      "display_name": "Python 3"
    }
  },
  "cells": [
    {
      "cell_type": "markdown",
      "metadata": {
        "id": "view-in-github",
        "colab_type": "text"
      },
      "source": [
        "<a href=\"https://colab.research.google.com/github/arturomf94/ce-mia/blob/master/tarea3/genetic_algorithm.ipynb\" target=\"_parent\"><img src=\"https://colab.research.google.com/assets/colab-badge.svg\" alt=\"Open In Colab\"/></a>"
      ]
    },
    {
      "metadata": {
        "id": "YToilHN8Ebpj",
        "colab_type": "code",
        "outputId": "c42f4769-9d55-4411-a4be-a893ec2b28f3",
        "colab": {
          "base_uri": "https://localhost:8080/",
          "height": 170
        }
      },
      "cell_type": "code",
      "source": [
        "!pip install deap"
      ],
      "execution_count": 2,
      "outputs": [
        {
          "output_type": "stream",
          "text": [
            "Collecting deap\n",
            "\u001b[?25l  Downloading https://files.pythonhosted.org/packages/af/29/e7f2ecbe02997b16a768baed076f5fc4781d7057cd5d9adf7c94027845ba/deap-1.2.2.tar.gz (936kB)\n",
            "\u001b[K    100% |████████████████████████████████| 942kB 18.5MB/s \n",
            "\u001b[?25hBuilding wheels for collected packages: deap\n",
            "  Building wheel for deap (setup.py) ... \u001b[?25ldone\n",
            "\u001b[?25h  Stored in directory: /root/.cache/pip/wheels/22/ea/bf/dc7c8a2262025a0ab5da9ef02282c198be88902791ca0c6658\n",
            "Successfully built deap\n",
            "Installing collected packages: deap\n",
            "Successfully installed deap-1.2.2\n"
          ],
          "name": "stdout"
        }
      ]
    },
    {
      "metadata": {
        "id": "TmmNrytwTRrF",
        "colab_type": "code",
        "colab": {}
      },
      "cell_type": "code",
      "source": [
        "import math\n",
        "import random\n",
        "from deap import creator, base, tools, algorithms"
      ],
      "execution_count": 0,
      "outputs": []
    },
    {
      "metadata": {
        "id": "zf2xOg1bTSvH",
        "colab_type": "code",
        "colab": {}
      },
      "cell_type": "code",
      "source": [
        "# get length of binary representation given bounds and precision\n",
        "def bin_len(lim_inf, lim_sup, pre):\n",
        "  return int(math.log2((lim_sup - lim_inf) * 10 ** pre) + 0.9)\n",
        "\n",
        "# return decimal given binary list and bounds\n",
        "def decimalize(bin_list, lim_inf, lim_sup):\n",
        "  bin_number = ''.join(str(e) for e in bin_list)\n",
        "  bin_int = int(bin_number, 2)\n",
        "  return lim_inf + (bin_int * (lim_sup - lim_inf) / (2 ** L - 1))"
      ],
      "execution_count": 0,
      "outputs": []
    },
    {
      "metadata": {
        "id": "EvVFrMyoHGbG",
        "colab_type": "code",
        "colab": {}
      },
      "cell_type": "code",
      "source": [
        "### I\n",
        "\n",
        "## parameters: \n",
        "\n",
        "lim_inf = -10\n",
        "lim_sup = 10\n",
        "pre = 3\n",
        "L = bin_len(lim_inf, lim_sup, pre) # length of binary rep for one x_i\n",
        "D = 10\n",
        "N = D * L # length of total potential solution in binary representation\n",
        "\n",
        "\n",
        "## objective function\n",
        "\n",
        "def obj(ind):\n",
        "  result = 0\n",
        "  for i in ind:\n",
        "    result += i**2\n",
        "  return result"
      ],
      "execution_count": 0,
      "outputs": []
    },
    {
      "metadata": {
        "id": "gEsZ65twRCZU",
        "colab_type": "code",
        "colab": {}
      },
      "cell_type": "code",
      "source": [
        "# stochastic remainder selection (no replacement)\n",
        "\n"
      ],
      "execution_count": 0,
      "outputs": []
    },
    {
      "metadata": {
        "id": "B1t1nBnrEnh4",
        "colab_type": "code",
        "outputId": "49cf935b-8dc9-4eaf-fccf-1d4b0080a772",
        "colab": {
          "base_uri": "https://localhost:8080/",
          "height": 85
        }
      },
      "cell_type": "code",
      "source": [
        "creator.create(\"FitnessMin\", base.Fitness, weights=(-1.0,))\n",
        "creator.create(\"Individual\", list, fitness=creator.FitnessMin)\n",
        "\n",
        "toolbox = base.Toolbox()\n",
        "\n",
        "toolbox.register(\"attr_bool\", random.randint, 0, 1)\n",
        "toolbox.register(\"individual\", tools.initRepeat, creator.Individual, toolbox.attr_bool, n = N)\n",
        "toolbox.register(\"population\", tools.initRepeat, list, toolbox.individual)\n",
        "\n",
        "def evalOneMax(individual):\n",
        "    decimal_representation = []\n",
        "    for i in range(1, D + 1):\n",
        "      lower_index = (i - 1) * L\n",
        "      higher_index = i * L\n",
        "      x = decimalize(individual[lower_index:higher_index], lim_inf, lim_sup)\n",
        "      decimal_representation.append(x)\n",
        "    return obj(decimal_representation),\n",
        "\n",
        "toolbox.register(\"evaluate\", evalOneMax)\n",
        "toolbox.register(\"mate\", tools.cxTwoPoint)\n",
        "toolbox.register(\"mutate\", tools.mutFlipBit, indpb=0.1)\n",
        "toolbox.register(\"select\", tools.selTournament, tournsize=3)\n",
        "\n",
        "population = toolbox.population(n=300)\n",
        "\n",
        "NGEN=300\n",
        "for gen in range(NGEN):\n",
        "    offspring = algorithms.varAnd(population, toolbox, cxpb=0.5, mutpb=0.1)\n",
        "    fits = toolbox.map(toolbox.evaluate, offspring)\n",
        "    for fit, ind in zip(fits, offspring):\n",
        "        ind.fitness.values = fit\n",
        "    population = toolbox.select(offspring, k=len(population))\n",
        "top10 = tools.selBest(population, k=10)"
      ],
      "execution_count": 8,
      "outputs": [
        {
          "output_type": "stream",
          "text": [
            "/usr/local/lib/python3.6/dist-packages/deap/creator.py:141: RuntimeWarning: A class named 'FitnessMin' has already been created and it will be overwritten. Consider deleting previous creation of that class or rename it.\n",
            "  RuntimeWarning)\n",
            "/usr/local/lib/python3.6/dist-packages/deap/creator.py:141: RuntimeWarning: A class named 'Individual' has already been created and it will be overwritten. Consider deleting previous creation of that class or rename it.\n",
            "  RuntimeWarning)\n"
          ],
          "name": "stderr"
        }
      ]
    },
    {
      "metadata": {
        "id": "ot1YtU2EncAH",
        "colab_type": "code",
        "colab": {}
      },
      "cell_type": "code",
      "source": [
        "### II\n",
        "\n",
        "## parameters: \n",
        "\n",
        "lim_inf = -5.2\n",
        "lim_sup = 5.2\n",
        "pre = 3\n",
        "L = bin_len(lim_inf, lim_sup, pre) # length of binary rep for one x_i\n",
        "D = 10\n",
        "N = D * L # length of total potential solution in binary representation\n",
        "\n",
        "\n",
        "## objective function\n",
        "\n",
        "def obj(ind):\n",
        "  result = 10 * D\n",
        "  for i in ind:\n",
        "    result += (i**2 - 10 * math.cos(2 * math.pi * i))\n",
        "  return result"
      ],
      "execution_count": 0,
      "outputs": []
    },
    {
      "metadata": {
        "id": "anSJOdEDwCuE",
        "colab_type": "code",
        "colab": {}
      },
      "cell_type": "code",
      "source": [
        "from collections import Sequence\n",
        "from itertools import repeat\n",
        "\n",
        "def mutUniformFloat(individual, low, up, indpb):\n",
        "    \"\"\"Mutate an individual by replacing attributes, with probability *indpb*,\n",
        "    by a integer uniformly drawn between *low* and *up* inclusively.\n",
        "    :param individual: :term:`Sequence <sequence>` individual to be mutated.\n",
        "    :param low: The lower bound or a :term:`python:sequence` of\n",
        "                of lower bounds of the range from wich to draw the new\n",
        "                integer.\n",
        "    :param up: The upper bound or a :term:`python:sequence` of\n",
        "               of upper bounds of the range from wich to draw the new\n",
        "               integer.\n",
        "    :param indpb: Independent probability for each attribute to be mutated.\n",
        "    :returns: A tuple of one individual.\n",
        "    \"\"\"\n",
        "    size = len(individual)\n",
        "    if not isinstance(low, Sequence):\n",
        "        low = repeat(low, size)\n",
        "    elif len(low) < size:\n",
        "        raise IndexError(\"low must be at least the size of individual: %d < %d\" % (len(low), size))\n",
        "    if not isinstance(up, Sequence):\n",
        "        up = repeat(up, size)\n",
        "    elif len(up) < size:\n",
        "        raise IndexError(\"up must be at least the size of individual: %d < %d\" % (len(up), size))\n",
        "\n",
        "    for i, xl, xu in zip(range(size), low, up):\n",
        "        if random.random() < indpb:\n",
        "            individual[i] = random.uniform(xl, xu)\n",
        "\n",
        "    return individual,\n"
      ],
      "execution_count": 0,
      "outputs": []
    },
    {
      "metadata": {
        "id": "1K1SOKj0n28s",
        "colab_type": "code",
        "colab": {
          "base_uri": "https://localhost:8080/",
          "height": 85
        },
        "outputId": "f0d1378c-bb25-403b-b467-032457eb6d38"
      },
      "cell_type": "code",
      "source": [
        "creator.create(\"FitnessMin\", base.Fitness, weights=(-1.0,))\n",
        "creator.create(\"Individual\", list, fitness=creator.FitnessMin)\n",
        "\n",
        "toolbox = base.Toolbox()\n",
        "\n",
        "toolbox.register(\"attr_float\", random.uniform, lim_inf, lim_sup)\n",
        "toolbox.register(\"individual\", tools.initRepeat, creator.Individual, toolbox.attr_float, n = N)\n",
        "toolbox.register(\"population\", tools.initRepeat, list, toolbox.individual)\n",
        "\n",
        "def evalOneMax(individual):\n",
        "    return obj(individual),\n",
        "\n",
        "toolbox.register(\"evaluate\", evalOneMax)\n",
        "toolbox.register(\"mate\", tools.cxTwoPoint)\n",
        "toolbox.register(\"mutate\", mutUniformFloat, low = lim_inf, up = lim_sup, indpb=0.1)\n",
        "toolbox.register(\"select\", tools.selTournament, tournsize=2)\n",
        "\n",
        "population = toolbox.population(n=300)\n",
        "\n",
        "NGEN=300\n",
        "for gen in range(NGEN):\n",
        "    offspring = algorithms.varAnd(population, toolbox, cxpb=0.5, mutpb=0.1)\n",
        "    fits = toolbox.map(toolbox.evaluate, offspring)\n",
        "    for fit, ind in zip(fits, offspring):\n",
        "        ind.fitness.values = fit\n",
        "    population = toolbox.select(offspring, k=len(population))\n",
        "top10 = tools.selBest(population, k=10)"
      ],
      "execution_count": 34,
      "outputs": [
        {
          "output_type": "stream",
          "text": [
            "/usr/local/lib/python3.6/dist-packages/deap/creator.py:141: RuntimeWarning: A class named 'FitnessMin' has already been created and it will be overwritten. Consider deleting previous creation of that class or rename it.\n",
            "  RuntimeWarning)\n",
            "/usr/local/lib/python3.6/dist-packages/deap/creator.py:141: RuntimeWarning: A class named 'Individual' has already been created and it will be overwritten. Consider deleting previous creation of that class or rename it.\n",
            "  RuntimeWarning)\n"
          ],
          "name": "stderr"
        }
      ]
    }
  ]
}