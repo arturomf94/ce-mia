{
  "nbformat": 4,
  "nbformat_minor": 0,
  "metadata": {
    "colab": {
      "name": "sade.ipynb",
      "version": "0.3.2",
      "provenance": [],
      "include_colab_link": true
    },
    "kernelspec": {
      "name": "python3",
      "display_name": "Python 3"
    }
  },
  "cells": [
    {
      "cell_type": "markdown",
      "metadata": {
        "id": "view-in-github",
        "colab_type": "text"
      },
      "source": [
        "<a href=\"https://colab.research.google.com/github/arturomf94/ce-mia/blob/master/sade/sade.ipynb\" target=\"_parent\"><img src=\"https://colab.research.google.com/assets/colab-badge.svg\" alt=\"Open In Colab\"/></a>"
      ]
    },
    {
      "cell_type": "code",
      "metadata": {
        "id": "IkOI_TcFLgkI",
        "colab_type": "code",
        "outputId": "f4996d0b-21e0-41eb-d0c4-dd3952557052",
        "colab": {
          "base_uri": "https://localhost:8080/",
          "height": 323
        }
      },
      "source": [
        "!pip install NiaPy==2.0.0rc5"
      ],
      "execution_count": 1,
      "outputs": [
        {
          "output_type": "stream",
          "text": [
            "Collecting NiaPy==2.0.0rc5\n",
            "\u001b[?25l  Downloading https://files.pythonhosted.org/packages/5b/85/90180f62d4851142955ab6d165a090ee340be159f3d4466c7ce46b4630ef/NiaPy-2.0.0rc5-py3-none-any.whl (188kB)\n",
            "\u001b[K     |████████████████████████████████| 194kB 2.8MB/s \n",
            "\u001b[?25hRequirement already satisfied: enum34>=1.1.6 in /usr/local/lib/python3.6/dist-packages (from NiaPy==2.0.0rc5) (1.1.6)\n",
            "Collecting xlsxwriter>=1.1.5 (from NiaPy==2.0.0rc5)\n",
            "\u001b[?25l  Downloading https://files.pythonhosted.org/packages/3f/1c/d6d90eb4e94b32b8558296ef197445fb1faca71d747e28ee3ef56f2cfac2/XlsxWriter-1.1.8-py2.py3-none-any.whl (139kB)\n",
            "\u001b[K     |████████████████████████████████| 143kB 45.9MB/s \n",
            "\u001b[?25hRequirement already satisfied: scipy>=1.1.0 in /usr/local/lib/python3.6/dist-packages (from NiaPy==2.0.0rc5) (1.2.1)\n",
            "Requirement already satisfied: matplotlib>=2.2.4 in /usr/local/lib/python3.6/dist-packages (from NiaPy==2.0.0rc5) (3.0.3)\n",
            "Requirement already satisfied: numpy>=1.16.2 in /usr/local/lib/python3.6/dist-packages (from NiaPy==2.0.0rc5) (1.16.3)\n",
            "Requirement already satisfied: kiwisolver>=1.0.1 in /usr/local/lib/python3.6/dist-packages (from matplotlib>=2.2.4->NiaPy==2.0.0rc5) (1.1.0)\n",
            "Requirement already satisfied: cycler>=0.10 in /usr/local/lib/python3.6/dist-packages (from matplotlib>=2.2.4->NiaPy==2.0.0rc5) (0.10.0)\n",
            "Requirement already satisfied: pyparsing!=2.0.4,!=2.1.2,!=2.1.6,>=2.0.1 in /usr/local/lib/python3.6/dist-packages (from matplotlib>=2.2.4->NiaPy==2.0.0rc5) (2.4.0)\n",
            "Requirement already satisfied: python-dateutil>=2.1 in /usr/local/lib/python3.6/dist-packages (from matplotlib>=2.2.4->NiaPy==2.0.0rc5) (2.5.3)\n",
            "Requirement already satisfied: setuptools in /usr/local/lib/python3.6/dist-packages (from kiwisolver>=1.0.1->matplotlib>=2.2.4->NiaPy==2.0.0rc5) (41.0.1)\n",
            "Requirement already satisfied: six in /usr/local/lib/python3.6/dist-packages (from cycler>=0.10->matplotlib>=2.2.4->NiaPy==2.0.0rc5) (1.12.0)\n",
            "Installing collected packages: xlsxwriter, NiaPy\n",
            "Successfully installed NiaPy-2.0.0rc5 xlsxwriter-1.1.8\n"
          ],
          "name": "stdout"
        }
      ]
    },
    {
      "cell_type": "code",
      "metadata": {
        "id": "CnRQi2KNfKPo",
        "colab_type": "code",
        "colab": {}
      },
      "source": [
        "import logging\n",
        "import numpy as np\n",
        "\n",
        "from NiaPy.algorithms.algorithm import Individual\n",
        "from NiaPy.algorithms.basic.de import DifferentialEvolution, CrossBest1, CrossRand1, CrossCurr2Best1, CrossBest2, CrossCurr2Rand1, proportional, multiMutations, DynNpDifferentialEvolution\n",
        "from NiaPy.util.utility import objects2array\n",
        "\n",
        "logging.basicConfig()\n",
        "logger = logging.getLogger('NiaPy.algorithms.modified')\n",
        "logger.setLevel('INFO')\n",
        "\n",
        "class SolutionSaDE(Individual):\n",
        "\tr\"\"\"Individual for SaDE algorithm.\n",
        "\tAttributes:\n",
        "\t\tF (float): Scale factor.\n",
        "\t\tCR (float): Crossover probability.\n",
        "\tSee Also:\n",
        "\t\t:class:`NiaPy.algorithms.Individual`\n",
        "\t\"\"\"\n",
        "\tdef __init__(self, F=2, CR=0.5, **kwargs):\n",
        "\t\tr\"\"\"Initialize SolutionSaDE.\n",
        "\t\tAttributes:\n",
        "\t\t\tF (float): Scale factor.\n",
        "\t\t\tCR (float): Crossover probability.\n",
        "\t\tSee Also:\n",
        "\t\t\t:func:`NiaPy.algorithm.Individual.__init__`\n",
        "\t\t\"\"\"\n",
        "\t\tIndividual.__init__(self, **kwargs)\n",
        "\t\tself.F, self.CR = F, CR\n",
        "\n",
        "class SelfAdaptiveDifferentialEvolution(DifferentialEvolution):\n",
        "\tName = ['SelfAdaptiveDifferentialEvolution', 'SaDE']\n",
        "\n",
        "\t@staticmethod\n",
        "\tdef typeParameters():\n",
        "\t\tr\"\"\"Get dictionary with functions for checking values of parameters.\n",
        "\t\tReturns:\n",
        "\t\t\tDict[str, Callable]:\n",
        "\t\tSee Also:\n",
        "\t\t\t* :func:`NiaPy.algorithms.basic.DifferentialEvolution.typeParameters`\n",
        "\t\t\"\"\"\n",
        "\t\td = DifferentialEvolution.typeParameters()\n",
        "\t\treturn d\n",
        "\n",
        "\tdef setParameters(self, **ukwargs):\n",
        "\t\tr\"\"\"Set the parameters of an algorithm.\n",
        "\t\tArguments:\n",
        "\t\tSee Also:\n",
        "\t\t\t* :func:`NiaPy.algorithms.basic.DifferentialEvolution.setParameters`\n",
        "\t\t\"\"\"\n",
        "\t\tDifferentialEvolution.setParameters(self, itype=ukwargs.pop('itype', SolutionSaDE), **ukwargs)\n",
        "\t\tif ukwargs: logger.info('Unused arguments: %s' % (ukwargs))\n",
        "\n",
        "\tdef AdaptiveGen(self, x):\n",
        "\t\tr\"\"\"Adaptive update scale factor in crossover probability.\n",
        "\t\tArgs:\n",
        "\t\t\tx (Individual): Individual to apply function on.\n",
        "\t\tReturns:\n",
        "\t\t\tIndividual: New individual with new parameters\n",
        "\t\t\"\"\"\n",
        "\t\tf = np.random.normal(0.5, 0.3, 1)[0]\n",
        "\t\tcr = np.random.normal(.5, 0.1, 1)[0]\n",
        "\t\treturn self.itype(x=x.x, F=f, CR=cr, e=False)\n",
        "\n",
        "\tdef evolve(self, pop, xb, task, **ukwargs):\n",
        "\t\tr\"\"\"Evolve current population.\n",
        "\t\tArgs:\n",
        "\t\t\tpop (numpy.ndarray[Individual]): Current population.\n",
        "\t\t\txb (Individual): Global best individual.\n",
        "\t\t\ttask (Task): Optimization task.\n",
        "\t\t\tukwargs (Dict[str, Any]): Additional arguments.\n",
        "\t\tReturns:\n",
        "\t\t\tnumpy.ndarray: New population.\n",
        "\t\t\"\"\"\n",
        "\t\tnpop = objects2array([self.AdaptiveGen(e) for e in pop])\n",
        "\t\tfor i, e in enumerate(npop): npop[i].x = self.CrossMutt(npop, i, xb, e.F, e.CR, rnd=self.Rand)\n",
        "\t\tfor e in npop: e.evaluate(task, rnd=self.rand)\n",
        "\t\treturn npop\n",
        "  "
      ],
      "execution_count": 0,
      "outputs": []
    },
    {
      "cell_type": "code",
      "metadata": {
        "id": "9Z_O7YpqLwc-",
        "colab_type": "code",
        "outputId": "e4cf9099-f7a4-4c26-e910-0ec2a28d852c",
        "colab": {
          "base_uri": "https://localhost:8080/",
          "height": 272
        }
      },
      "source": [
        "# encoding=utf8\n",
        "# This is temporary fix to import module from parent folder\n",
        "# It will be removed when package is published on PyPI\n",
        "import sys\n",
        "sys.path.append('../')\n",
        "# End of fix\n",
        "\n",
        "#from NiaPy.algorithms.modified import SelfAdaptiveDifferentialEvolution\n",
        "from NiaPy.task.task import StoppingTask, OptimizationType\n",
        "from NiaPy.benchmarks import Sphere\n",
        "\n",
        "# we will run SaDE algorithm for 5 independent runs\n",
        "for i in range(5):\n",
        "\ttask = StoppingTask(D=10, nGEN = 200, optType=OptimizationType.MINIMIZATION, benchmark=Sphere())\n",
        "\talgo = SelfAdaptiveDifferentialEvolution()\n",
        "\tbest = algo.run(task=task)\n",
        "\tprint('%s -> %s' % (best[0].x, best[1]))\n",
        "\n",
        "# vim: tabstop=3 noexpandtab shiftwidth=3 softtabstop=3"
      ],
      "execution_count": 54,
      "outputs": [
        {
          "output_type": "stream",
          "text": [
            "[ 8.37196333e-04  7.91235124e-05 -1.80913283e-04 -1.62526046e-04\n",
            " -4.41481607e-04  2.15965910e-05  4.45613533e-04  6.01486025e-04\n",
            "  3.58108107e-04  1.18604029e-04] -> 1.664340175814946e-06\n",
            "[-2.55230962e-04 -6.97874611e-05  6.16433442e-05  1.54450335e-04\n",
            "  2.14424715e-04  4.03136511e-04  5.96979602e-04 -2.94614477e-05\n",
            " -3.44063496e-04  2.49269356e-04] -> 8.439324693914702e-07\n",
            "[ 4.39600661e-04  8.49969169e-04  1.39930966e-04  1.80407753e-04\n",
            " -3.04397649e-04 -1.89572979e-04  9.60441305e-05 -9.47287499e-05\n",
            "  3.13332066e-04  1.87586609e-04] -> 1.247983535894232e-06\n",
            "[-5.20669420e-05  7.20755660e-04 -4.66072329e-04 -6.22285845e-05\n",
            "  3.98439600e-04  2.06632484e-04  3.17594260e-04 -1.89379983e-04\n",
            "  3.83297979e-04  2.01531459e-04] -> 1.2690097610494477e-06\n",
            "[ 3.17451983e-04  3.07234597e-05  2.36243554e-05  3.75081731e-04\n",
            "  1.75533333e-04 -3.25510396e-04 -2.54582937e-04  2.28977947e-04\n",
            "  2.30491007e-04  1.50889205e-04] -> 5.728701052662931e-07\n"
          ],
          "name": "stdout"
        }
      ]
    }
  ]
}