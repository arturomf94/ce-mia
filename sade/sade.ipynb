{
  "nbformat": 4,
  "nbformat_minor": 0,
  "metadata": {
    "colab": {
      "name": "sade.ipynb",
      "version": "0.3.2",
      "provenance": [],
      "include_colab_link": true
    },
    "kernelspec": {
      "name": "python3",
      "display_name": "Python 3"
    }
  },
  "cells": [
    {
      "cell_type": "markdown",
      "metadata": {
        "id": "view-in-github",
        "colab_type": "text"
      },
      "source": [
        "<a href=\"https://colab.research.google.com/github/arturomf94/ce-mia/blob/master/sade/sade.ipynb\" target=\"_parent\"><img src=\"https://colab.research.google.com/assets/colab-badge.svg\" alt=\"Open In Colab\"/></a>"
      ]
    },
    {
      "cell_type": "code",
      "metadata": {
        "id": "IkOI_TcFLgkI",
        "colab_type": "code",
        "outputId": "37dfb36c-d659-4374-a5f4-ed3fb6e6c340",
        "colab": {
          "base_uri": "https://localhost:8080/",
          "height": 714
        }
      },
      "source": [
        "!pip install NiaPy==2.0.0rc5"
      ],
      "execution_count": 0,
      "outputs": [
        {
          "output_type": "stream",
          "text": [
            "Collecting NiaPy==2.0.0rc5\n",
            "\u001b[?25l  Downloading https://files.pythonhosted.org/packages/5b/85/90180f62d4851142955ab6d165a090ee340be159f3d4466c7ce46b4630ef/NiaPy-2.0.0rc5-py3-none-any.whl (188kB)\n",
            "\u001b[K     |████████████████████████████████| 194kB 4.9MB/s \n",
            "\u001b[?25hCollecting numpy>=1.16.2 (from NiaPy==2.0.0rc5)\n",
            "\u001b[?25l  Downloading https://files.pythonhosted.org/packages/c1/e2/4db8df8f6cddc98e7d7c537245ef2f4e41a1ed17bf0c3177ab3cc6beac7f/numpy-1.16.3-cp36-cp36m-manylinux1_x86_64.whl (17.3MB)\n",
            "\u001b[K     |████████████████████████████████| 17.3MB 41.3MB/s \n",
            "\u001b[?25hRequirement already satisfied: matplotlib>=2.2.4 in /usr/local/lib/python3.6/dist-packages (from NiaPy==2.0.0rc5) (3.0.3)\n",
            "Collecting xlsxwriter>=1.1.5 (from NiaPy==2.0.0rc5)\n",
            "\u001b[?25l  Downloading https://files.pythonhosted.org/packages/3f/1c/d6d90eb4e94b32b8558296ef197445fb1faca71d747e28ee3ef56f2cfac2/XlsxWriter-1.1.8-py2.py3-none-any.whl (139kB)\n",
            "\u001b[K     |████████████████████████████████| 143kB 35.4MB/s \n",
            "\u001b[?25hCollecting scipy>=1.1.0 (from NiaPy==2.0.0rc5)\n",
            "\u001b[?25l  Downloading https://files.pythonhosted.org/packages/7f/5f/c48860704092933bf1c4c1574a8de1ffd16bf4fde8bab190d747598844b2/scipy-1.2.1-cp36-cp36m-manylinux1_x86_64.whl (24.8MB)\n",
            "\u001b[K     |████████████████████████████████| 24.8MB 1.4MB/s \n",
            "\u001b[?25hRequirement already satisfied: enum34>=1.1.6 in /usr/local/lib/python3.6/dist-packages (from NiaPy==2.0.0rc5) (1.1.6)\n",
            "Requirement already satisfied: pyparsing!=2.0.4,!=2.1.2,!=2.1.6,>=2.0.1 in /usr/local/lib/python3.6/dist-packages (from matplotlib>=2.2.4->NiaPy==2.0.0rc5) (2.4.0)\n",
            "Requirement already satisfied: cycler>=0.10 in /usr/local/lib/python3.6/dist-packages (from matplotlib>=2.2.4->NiaPy==2.0.0rc5) (0.10.0)\n",
            "Requirement already satisfied: kiwisolver>=1.0.1 in /usr/local/lib/python3.6/dist-packages (from matplotlib>=2.2.4->NiaPy==2.0.0rc5) (1.1.0)\n",
            "Requirement already satisfied: python-dateutil>=2.1 in /usr/local/lib/python3.6/dist-packages (from matplotlib>=2.2.4->NiaPy==2.0.0rc5) (2.5.3)\n",
            "Requirement already satisfied: six in /usr/local/lib/python3.6/dist-packages (from cycler>=0.10->matplotlib>=2.2.4->NiaPy==2.0.0rc5) (1.12.0)\n",
            "Requirement already satisfied: setuptools in /usr/local/lib/python3.6/dist-packages (from kiwisolver>=1.0.1->matplotlib>=2.2.4->NiaPy==2.0.0rc5) (41.0.1)\n",
            "\u001b[31mERROR: datascience 0.10.6 has requirement folium==0.2.1, but you'll have folium 0.8.3 which is incompatible.\u001b[0m\n",
            "\u001b[31mERROR: albumentations 0.1.12 has requirement imgaug<0.2.7,>=0.2.5, but you'll have imgaug 0.2.8 which is incompatible.\u001b[0m\n",
            "Installing collected packages: numpy, xlsxwriter, scipy, NiaPy\n",
            "  Found existing installation: numpy 1.14.6\n",
            "    Uninstalling numpy-1.14.6:\n",
            "      Successfully uninstalled numpy-1.14.6\n",
            "  Found existing installation: XlsxWriter 1.0.9\n",
            "    Uninstalling XlsxWriter-1.0.9:\n",
            "      Successfully uninstalled XlsxWriter-1.0.9\n",
            "  Found existing installation: scipy 1.0.1\n",
            "    Uninstalling scipy-1.0.1:\n",
            "      Successfully uninstalled scipy-1.0.1\n",
            "  Found existing installation: NiaPy 1.0.2\n",
            "    Uninstalling NiaPy-1.0.2:\n",
            "      Successfully uninstalled NiaPy-1.0.2\n",
            "Successfully installed NiaPy-2.0.0rc5 numpy-1.16.3 scipy-1.2.1 xlsxwriter-1.1.8\n"
          ],
          "name": "stdout"
        },
        {
          "output_type": "display_data",
          "data": {
            "application/vnd.colab-display-data+json": {
              "pip_warning": {
                "packages": [
                  "NiaPy",
                  "numpy",
                  "scipy",
                  "xlsxwriter"
                ]
              }
            }
          },
          "metadata": {
            "tags": []
          }
        }
      ]
    },
    {
      "cell_type": "code",
      "metadata": {
        "id": "9Z_O7YpqLwc-",
        "colab_type": "code",
        "outputId": "84263f43-cbf7-4f59-99ca-08fb401d0b19",
        "colab": {
          "base_uri": "https://localhost:8080/",
          "height": 272
        }
      },
      "source": [
        "# encoding=utf8\n",
        "# This is temporary fix to import module from parent folder\n",
        "# It will be removed when package is published on PyPI\n",
        "import sys\n",
        "sys.path.append('../')\n",
        "# End of fix\n",
        "\n",
        "from NiaPy.algorithms.modified import SelfAdaptiveDifferentialEvolution\n",
        "from NiaPy.task.task import StoppingTask, OptimizationType\n",
        "from NiaPy.benchmarks import Sphere\n",
        "\n",
        "# we will run jDE algorithm for 5 independent runs\n",
        "for i in range(5):\n",
        "\ttask = StoppingTask(D=10, nFES=10000, optType=OptimizationType.MINIMIZATION, benchmark=Sphere())\n",
        "\talgo = SelfAdaptiveDifferentialEvolution(NP=40, F=0.5, F_l=0.0, F_u=2.0, Tao1=0.9, CR=0.5, Tao2=0.45)\n",
        "\tbest = algo.run(task=task)\n",
        "\tprint('%s -> %s' % (best[0].x, best[1]))\n",
        "\n",
        "# vim: tabstop=3 noexpandtab shiftwidth=3 softtabstop=3"
      ],
      "execution_count": 0,
      "outputs": [
        {
          "output_type": "stream",
          "text": [
            "INFO:NiaPy.algorithms.modified:Unused arguments: {'NP': 40, 'F': 0.5, 'CR': 0.5}\n",
            "INFO:NiaPy.algorithms.modified:Unused arguments: {'NP': 40, 'F': 0.5, 'CR': 0.5}\n"
          ],
          "name": "stderr"
        },
        {
          "output_type": "stream",
          "text": [
            "[ 0.00302687 -0.0123644  -0.01053274 -0.00336143  0.00738549 -0.00302026\n",
            " -0.01489378 -0.00473388  0.00926836  0.01786837] -> 0.0009973609797279419\n"
          ],
          "name": "stdout"
        },
        {
          "output_type": "stream",
          "text": [
            "INFO:NiaPy.algorithms.modified:Unused arguments: {'NP': 40, 'F': 0.5, 'CR': 0.5}\n"
          ],
          "name": "stderr"
        },
        {
          "output_type": "stream",
          "text": [
            "[ 0.00384191  0.00638668 -0.00660793  0.00566301  0.00785646 -0.00979374\n",
            " -0.00594751 -0.00832271 -0.00215662 -0.00337562] -> 0.0004096117490346315\n"
          ],
          "name": "stdout"
        },
        {
          "output_type": "stream",
          "text": [
            "INFO:NiaPy.algorithms.modified:Unused arguments: {'NP': 40, 'F': 0.5, 'CR': 0.5}\n"
          ],
          "name": "stderr"
        },
        {
          "output_type": "stream",
          "text": [
            "[-0.0006691   0.00053026  0.00256952 -0.01479002 -0.02375222 -0.01919123\n",
            "  0.00146339 -0.00424001  0.01439861  0.0094993 ] -> 0.0014762230876716874\n"
          ],
          "name": "stdout"
        },
        {
          "output_type": "stream",
          "text": [
            "INFO:NiaPy.algorithms.modified:Unused arguments: {'NP': 40, 'F': 0.5, 'CR': 0.5}\n"
          ],
          "name": "stderr"
        },
        {
          "output_type": "stream",
          "text": [
            "[ 0.00163237  0.00695424 -0.00134181  0.0125414   0.00036927 -0.00544278\n",
            "  0.0184317  -0.0031027   0.00022682 -0.00492471] -> 0.0006135320955884137\n",
            "[-0.00028391  0.00588049 -0.01092443 -0.00425996  0.00638361  0.00704904\n",
            " -0.00598727  0.00114119  0.0083402  -0.00739981] -> 0.0004240566066695199\n"
          ],
          "name": "stdout"
        }
      ]
    }
  ]
}