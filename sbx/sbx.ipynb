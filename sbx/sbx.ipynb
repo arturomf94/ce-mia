{
  "nbformat": 4,
  "nbformat_minor": 0,
  "metadata": {
    "colab": {
      "name": "sbx.ipynb",
      "version": "0.3.2",
      "provenance": [],
      "collapsed_sections": [],
      "include_colab_link": true
    },
    "kernelspec": {
      "name": "python3",
      "display_name": "Python 3"
    }
  },
  "cells": [
    {
      "cell_type": "markdown",
      "metadata": {
        "id": "view-in-github",
        "colab_type": "text"
      },
      "source": [
        "<a href=\"https://colab.research.google.com/github/arturomf94/ce-mia/blob/master/sbx/sbx.ipynb\" target=\"_parent\"><img src=\"https://colab.research.google.com/assets/colab-badge.svg\" alt=\"Open In Colab\"/></a>"
      ]
    },
    {
      "metadata": {
        "id": "6MQ7w98jnVGz",
        "colab_type": "code",
        "colab": {}
      },
      "cell_type": "code",
      "source": [
        "import random\n",
        "import matplotlib.pyplot as plt"
      ],
      "execution_count": 0,
      "outputs": []
    },
    {
      "metadata": {
        "id": "ZSevs3QHnzeU",
        "colab_type": "code",
        "colab": {}
      },
      "cell_type": "code",
      "source": [
        "def sbx(ind1, ind2, n):\n",
        "    for i, (x1, x2) in enumerate(zip(ind1, ind2)):\n",
        "        rand = random.random()\n",
        "        if rand <= 0.5:\n",
        "            beta = 2. * rand\n",
        "        else:\n",
        "            beta = 1. / (2. * (1. - rand))\n",
        "        beta **= 1. / (n + 1.)\n",
        "        ind1[i] = 0.5 * (((1 + beta) * x1) + ((1 - beta) * x2))\n",
        "        ind2[i] = 0.5 * (((1 - beta) * x1) + ((1 + beta) * x2))\n",
        "\n",
        "    return ind1, ind2"
      ],
      "execution_count": 0,
      "outputs": []
    },
    {
      "metadata": {
        "id": "VVP4rRYln70N",
        "colab_type": "code",
        "outputId": "b77228ad-90f6-4899-d825-3a131667de3a",
        "colab": {
          "base_uri": "https://localhost:8080/",
          "height": 52
        }
      },
      "cell_type": "code",
      "source": [
        "sbx([1.2345, 124.1241], [5.241, 132.1251], .0001)"
      ],
      "execution_count": 21,
      "outputs": [
        {
          "output_type": "execute_result",
          "data": {
            "text/plain": [
              "([3.0453566661104023, 124.04066114214552],\n",
              " [3.4301433338895975, 132.20853885785445])"
            ]
          },
          "metadata": {
            "tags": []
          },
          "execution_count": 21
        }
      ]
    },
    {
      "metadata": {
        "id": "jKQPb5Ktr4r4",
        "colab_type": "code",
        "colab": {}
      },
      "cell_type": "code",
      "source": [
        "ns = [0.00001, 0.0001, 0.001, .01, 1, 10, 100, 1000, 10000]\n",
        "ns = [(10 ** i) / 100000000000 for i in range(0,100)]\n",
        "sbxs1 = []\n",
        "sbxs2 = []\n",
        "p1 = [1.2345, 124.1241]\n",
        "p2 = [5.241, 132.1251]"
      ],
      "execution_count": 0,
      "outputs": []
    },
    {
      "metadata": {
        "id": "FAwGcdIntQLr",
        "colab_type": "code",
        "colab": {
          "base_uri": "https://localhost:8080/",
          "height": 1754
        },
        "outputId": "16b53b5b-7eb5-46cb-9506-839991787991"
      },
      "cell_type": "code",
      "source": [
        "for ene in ns:\n",
        "  ch = sbx(p1,p2,ene)\n",
        "  sbxs1.append(tuple(ch[0]))\n",
        "  sbxs2.append(tuple(ch[1]))\n",
        "\n",
        "sbxs1"
      ],
      "execution_count": 62,
      "outputs": [
        {
          "output_type": "execute_result",
          "data": {
            "text/plain": [
              "[(2.032690024410067, 125.8439667354166),\n",
              " (-0.8675595489690435, 122.4217304283774),\n",
              " (-2.4282440740979947, 123.87870136414196),\n",
              " (-1.4692824217620357, 117.51265720472473),\n",
              " (1.1911524977226469, 127.65032914156888),\n",
              " (0.6650687616983614, 127.44563948563348),\n",
              " (2.5477327576948183, 127.81232996210832),\n",
              " (2.9976788200072093, 128.00623910458657),\n",
              " (3.0479513046806486, 127.72907318396102),\n",
              " (2.067482781136439, 127.26091317788827),\n",
              " (2.374003173500751, 127.06021843498092),\n",
              " (2.394703278058573, 127.56672168565325),\n",
              " (2.4777226855218055, 127.61993534591421),\n",
              " (2.475186111902456, 127.61728877556587),\n",
              " (2.47294338167503, 127.6172689041666),\n",
              " (2.4729525243841057, 127.61724312463026),\n",
              " (2.4729118381643094, 127.61724205550469),\n",
              " (2.4729119292185464, 127.61724247165837),\n",
              " (2.4729119515484284, 127.61724270199942),\n",
              " (2.472911947567789, 127.6172427002738),\n",
              " (2.47291194693403, 127.6172427006645),\n",
              " (2.4729119468599094, 127.61724270096398),\n",
              " (2.4729119468516996, 127.61724270095971),\n",
              " (2.4729119468512746, 127.61724270095982),\n",
              " (2.4729119468511773, 127.61724270095989),\n",
              " (2.4729119468511738, 127.61724270095989),\n",
              " (2.472911946851173, 127.61724270095989),\n",
              " (2.472911946851173, 127.61724270095989),\n",
              " (2.472911946851173, 127.61724270095989),\n",
              " (2.472911946851173, 127.61724270095989),\n",
              " (2.472911946851173, 127.61724270095989),\n",
              " (2.472911946851173, 127.61724270095989),\n",
              " (2.472911946851173, 127.61724270095989),\n",
              " (2.472911946851173, 127.61724270095989),\n",
              " (2.472911946851173, 127.61724270095989),\n",
              " (2.472911946851173, 127.61724270095989),\n",
              " (2.472911946851173, 127.61724270095989),\n",
              " (2.472911946851173, 127.61724270095989),\n",
              " (2.472911946851173, 127.61724270095989),\n",
              " (2.472911946851173, 127.61724270095989),\n",
              " (2.472911946851173, 127.61724270095989),\n",
              " (2.472911946851173, 127.61724270095989),\n",
              " (2.472911946851173, 127.61724270095989),\n",
              " (2.472911946851173, 127.61724270095989),\n",
              " (2.472911946851173, 127.61724270095989),\n",
              " (2.472911946851173, 127.61724270095989),\n",
              " (2.472911946851173, 127.61724270095989),\n",
              " (2.472911946851173, 127.61724270095989),\n",
              " (2.472911946851173, 127.61724270095989),\n",
              " (2.472911946851173, 127.61724270095989),\n",
              " (2.472911946851173, 127.61724270095989),\n",
              " (2.472911946851173, 127.61724270095989),\n",
              " (2.472911946851173, 127.61724270095989),\n",
              " (2.472911946851173, 127.61724270095989),\n",
              " (2.472911946851173, 127.61724270095989),\n",
              " (2.472911946851173, 127.61724270095989),\n",
              " (2.472911946851173, 127.61724270095989),\n",
              " (2.472911946851173, 127.61724270095989),\n",
              " (2.472911946851173, 127.61724270095989),\n",
              " (2.472911946851173, 127.61724270095989),\n",
              " (2.472911946851173, 127.61724270095989),\n",
              " (2.472911946851173, 127.61724270095989),\n",
              " (2.472911946851173, 127.61724270095989),\n",
              " (2.472911946851173, 127.61724270095989),\n",
              " (2.472911946851173, 127.61724270095989),\n",
              " (2.472911946851173, 127.61724270095989),\n",
              " (2.472911946851173, 127.61724270095989),\n",
              " (2.472911946851173, 127.61724270095989),\n",
              " (2.472911946851173, 127.61724270095989),\n",
              " (2.472911946851173, 127.61724270095989),\n",
              " (2.472911946851173, 127.61724270095989),\n",
              " (2.472911946851173, 127.61724270095989),\n",
              " (2.472911946851173, 127.61724270095989),\n",
              " (2.472911946851173, 127.61724270095989),\n",
              " (2.472911946851173, 127.61724270095989),\n",
              " (2.472911946851173, 127.61724270095989),\n",
              " (2.472911946851173, 127.61724270095989),\n",
              " (2.472911946851173, 127.61724270095989),\n",
              " (2.472911946851173, 127.61724270095989),\n",
              " (2.472911946851173, 127.61724270095989),\n",
              " (2.472911946851173, 127.61724270095989),\n",
              " (2.472911946851173, 127.61724270095989),\n",
              " (2.472911946851173, 127.61724270095989),\n",
              " (2.472911946851173, 127.61724270095989),\n",
              " (2.472911946851173, 127.61724270095989),\n",
              " (2.472911946851173, 127.61724270095989),\n",
              " (2.472911946851173, 127.61724270095989),\n",
              " (2.472911946851173, 127.61724270095989),\n",
              " (2.472911946851173, 127.61724270095989),\n",
              " (2.472911946851173, 127.61724270095989),\n",
              " (2.472911946851173, 127.61724270095989),\n",
              " (2.472911946851173, 127.61724270095989),\n",
              " (2.472911946851173, 127.61724270095989),\n",
              " (2.472911946851173, 127.61724270095989),\n",
              " (2.472911946851173, 127.61724270095989),\n",
              " (2.472911946851173, 127.61724270095989),\n",
              " (2.472911946851173, 127.61724270095989),\n",
              " (2.472911946851173, 127.61724270095989),\n",
              " (2.472911946851173, 127.61724270095989),\n",
              " (2.472911946851173, 127.61724270095989)]"
            ]
          },
          "metadata": {
            "tags": []
          },
          "execution_count": 62
        }
      ]
    },
    {
      "metadata": {
        "id": "FSbJUHKuR2GW",
        "colab_type": "code",
        "colab": {
          "base_uri": "https://localhost:8080/",
          "height": 1754
        },
        "outputId": "8fbc0b21-0423-47df-ee87-556336083fe4"
      },
      "cell_type": "code",
      "source": [
        "sbxs2"
      ],
      "execution_count": 63,
      "outputs": [
        {
          "output_type": "execute_result",
          "data": {
            "text/plain": [
              "[(4.442809975589933, 130.4052332645834),\n",
              " (7.3430595489690464, 133.8274695716226),\n",
              " (8.903744074097999, 132.37049863585804),\n",
              " (7.944782421762039, 138.73654279527528),\n",
              " (5.284347502277355, 128.59887085843116),\n",
              " (5.810431238301641, 128.80356051436655),\n",
              " (3.9277672423051837, 128.4368700378917),\n",
              " (3.4778211799927927, 128.24296089541343),\n",
              " (3.4275486953193535, 128.52012681603895),\n",
              " (4.408017218863563, 128.98828682211172),\n",
              " (4.10149682649925, 129.18898156501905),\n",
              " (4.08079672194143, 128.68247831434672),\n",
              " (3.997777314478197, 128.62926465408574),\n",
              " (4.000313888097546, 128.63191122443405),\n",
              " (4.002556618324972, 128.63193109583332),\n",
              " (4.002547475615896, 128.63195687536967),\n",
              " (4.002588161835692, 128.63195794449524),\n",
              " (4.002588070781455, 128.63195752834156),\n",
              " (4.002588048451573, 128.6319572980005),\n",
              " (4.002588052432213, 128.63195729972608),\n",
              " (4.002588053065971, 128.63195729933537),\n",
              " (4.002588053140092, 128.63195729903592),\n",
              " (4.002588053148301, 128.6319572990402),\n",
              " (4.002588053148726, 128.6319572990401),\n",
              " (4.002588053148823, 128.63195729904004),\n",
              " (4.002588053148827, 128.63195729904004),\n",
              " (4.002588053148828, 128.63195729904),\n",
              " (4.002588053148828, 128.63195729903998),\n",
              " (4.002588053148828, 128.63195729903998),\n",
              " (4.002588053148828, 128.63195729903998),\n",
              " (4.002588053148828, 128.63195729903998),\n",
              " (4.002588053148828, 128.63195729903998),\n",
              " (4.002588053148828, 128.63195729903998),\n",
              " (4.002588053148828, 128.63195729903998),\n",
              " (4.002588053148828, 128.63195729903998),\n",
              " (4.002588053148828, 128.63195729903998),\n",
              " (4.002588053148828, 128.63195729903998),\n",
              " (4.002588053148828, 128.63195729903998),\n",
              " (4.002588053148828, 128.63195729903998),\n",
              " (4.002588053148828, 128.63195729903998),\n",
              " (4.002588053148828, 128.63195729903998),\n",
              " (4.002588053148828, 128.63195729903998),\n",
              " (4.002588053148828, 128.63195729903998),\n",
              " (4.002588053148828, 128.63195729903998),\n",
              " (4.002588053148828, 128.63195729903998),\n",
              " (4.002588053148828, 128.63195729903998),\n",
              " (4.002588053148828, 128.63195729903998),\n",
              " (4.002588053148828, 128.63195729903998),\n",
              " (4.002588053148828, 128.63195729903998),\n",
              " (4.002588053148828, 128.63195729903998),\n",
              " (4.002588053148828, 128.63195729903998),\n",
              " (4.002588053148828, 128.63195729903998),\n",
              " (4.002588053148828, 128.63195729903998),\n",
              " (4.002588053148828, 128.63195729903998),\n",
              " (4.002588053148828, 128.63195729903998),\n",
              " (4.002588053148828, 128.63195729903998),\n",
              " (4.002588053148828, 128.63195729903998),\n",
              " (4.002588053148828, 128.63195729903998),\n",
              " (4.002588053148828, 128.63195729903998),\n",
              " (4.002588053148828, 128.63195729903998),\n",
              " (4.002588053148828, 128.63195729903998),\n",
              " (4.002588053148828, 128.63195729903998),\n",
              " (4.002588053148828, 128.63195729903998),\n",
              " (4.002588053148828, 128.63195729903998),\n",
              " (4.002588053148828, 128.63195729903998),\n",
              " (4.002588053148828, 128.63195729903998),\n",
              " (4.002588053148828, 128.63195729903998),\n",
              " (4.002588053148828, 128.63195729903998),\n",
              " (4.002588053148828, 128.63195729903998),\n",
              " (4.002588053148828, 128.63195729903998),\n",
              " (4.002588053148828, 128.63195729903998),\n",
              " (4.002588053148828, 128.63195729903998),\n",
              " (4.002588053148828, 128.63195729903998),\n",
              " (4.002588053148828, 128.63195729903998),\n",
              " (4.002588053148828, 128.63195729903998),\n",
              " (4.002588053148828, 128.63195729903998),\n",
              " (4.002588053148828, 128.63195729903998),\n",
              " (4.002588053148828, 128.63195729903998),\n",
              " (4.002588053148828, 128.63195729903998),\n",
              " (4.002588053148828, 128.63195729903998),\n",
              " (4.002588053148828, 128.63195729903998),\n",
              " (4.002588053148828, 128.63195729903998),\n",
              " (4.002588053148828, 128.63195729903998),\n",
              " (4.002588053148828, 128.63195729903998),\n",
              " (4.002588053148828, 128.63195729903998),\n",
              " (4.002588053148828, 128.63195729903998),\n",
              " (4.002588053148828, 128.63195729903998),\n",
              " (4.002588053148828, 128.63195729903998),\n",
              " (4.002588053148828, 128.63195729903998),\n",
              " (4.002588053148828, 128.63195729903998),\n",
              " (4.002588053148828, 128.63195729903998),\n",
              " (4.002588053148828, 128.63195729903998),\n",
              " (4.002588053148828, 128.63195729903998),\n",
              " (4.002588053148828, 128.63195729903998),\n",
              " (4.002588053148828, 128.63195729903998),\n",
              " (4.002588053148828, 128.63195729903998),\n",
              " (4.002588053148828, 128.63195729903998),\n",
              " (4.002588053148828, 128.63195729903998),\n",
              " (4.002588053148828, 128.63195729903998),\n",
              " (4.002588053148828, 128.63195729903998)]"
            ]
          },
          "metadata": {
            "tags": []
          },
          "execution_count": 63
        }
      ]
    },
    {
      "metadata": {
        "id": "gJ_Wx_7CtsUo",
        "colab_type": "code",
        "colab": {
          "base_uri": "https://localhost:8080/",
          "height": 364
        },
        "outputId": "f4c31603-7519-4bff-db31-a940b2caa137"
      },
      "cell_type": "code",
      "source": [
        "x1s, y1s = zip(*sbxs1)\n",
        "x2s, y2s = zip(*sbxs2)\n",
        "plt.scatter(x1s,y1s)"
      ],
      "execution_count": 64,
      "outputs": [
        {
          "output_type": "execute_result",
          "data": {
            "text/plain": [
              "<matplotlib.collections.PathCollection at 0x7fefdc070dd8>"
            ]
          },
          "metadata": {
            "tags": []
          },
          "execution_count": 64
        },
        {
          "output_type": "display_data",
          "data": {
            "image/png": "[encoded data removed]",
            "text/plain": [
              "<Figure size 576x396 with 1 Axes>"
            ]
          },
          "metadata": {
            "tags": []
          }
        }
      ]
    },
    {
      "metadata": {
        "id": "biTQjW03Rf2p",
        "colab_type": "code",
        "colab": {
          "base_uri": "https://localhost:8080/",
          "height": 364
        },
        "outputId": "9defbf35-a006-4cf4-dca2-5f4067d69f1e"
      },
      "cell_type": "code",
      "source": [
        "plt.scatter(x2s,y2s)"
      ],
      "execution_count": 65,
      "outputs": [
        {
          "output_type": "execute_result",
          "data": {
            "text/plain": [
              "<matplotlib.collections.PathCollection at 0x7fefdbfc9d68>"
            ]
          },
          "metadata": {
            "tags": []
          },
          "execution_count": 65
        },
        {
          "output_type": "display_data",
          "data": {
            "image/png": "[encoded data removed]",
            "text/plain": [
              "<Figure size 576x396 with 1 Axes>"
            ]
          },
          "metadata": {
            "tags": []
          }
        }
      ]
    }
  ]
}