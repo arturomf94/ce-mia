{
  "nbformat": 4,
  "nbformat_minor": 0,
  "metadata": {
    "colab": {
      "name": "sbx.ipynb",
      "version": "0.3.2",
      "provenance": [],
      "include_colab_link": true
    },
    "kernelspec": {
      "name": "python3",
      "display_name": "Python 3"
    }
  },
  "cells": [
    {
      "cell_type": "markdown",
      "metadata": {
        "id": "view-in-github",
        "colab_type": "text"
      },
      "source": [
        "<a href=\"https://colab.research.google.com/github/arturomf94/ce-mia/blob/master/sbx/sbx.ipynb\" target=\"_parent\"><img src=\"https://colab.research.google.com/assets/colab-badge.svg\" alt=\"Open In Colab\"/></a>"
      ]
    },
    {
      "metadata": {
        "id": "6MQ7w98jnVGz",
        "colab_type": "code",
        "colab": {}
      },
      "cell_type": "code",
      "source": [
        "import random"
      ],
      "execution_count": 0,
      "outputs": []
    },
    {
      "metadata": {
        "id": "ZSevs3QHnzeU",
        "colab_type": "code",
        "colab": {}
      },
      "cell_type": "code",
      "source": [
        "def sbx(ind1, ind2, n):\n",
        "    for i, (x1, x2) in enumerate(zip(ind1, ind2)):\n",
        "        rand = random.random()\n",
        "        if rand <= 0.5:\n",
        "            beta = 2. * rand\n",
        "        else:\n",
        "            beta = 1. / (2. * (1. - rand))\n",
        "        beta **= 1. / (n + 1.)\n",
        "        ind1[i] = 0.5 * (((1 + beta) * x1) + ((1 - beta) * x2))\n",
        "        ind2[i] = 0.5 * (((1 - beta) * x1) + ((1 + beta) * x2))\n",
        "\n",
        "    return ind1, ind2"
      ],
      "execution_count": 0,
      "outputs": []
    },
    {
      "metadata": {
        "id": "VVP4rRYln70N",
        "colab_type": "code",
        "colab": {
          "base_uri": "https://localhost:8080/",
          "height": 52
        },
        "outputId": "f7dd33c7-14b5-4858-8f67-67f2c13aafdd"
      },
      "cell_type": "code",
      "source": [
        "sbx([1.2345, 124.1241], [5.241, 132.1251], .0001)"
      ],
      "execution_count": 25,
      "outputs": [
        {
          "output_type": "execute_result",
          "data": {
            "text/plain": [
              "([-0.017636357946562375, 105.60139568002597],\n",
              " [6.493136357946562, 150.647804319974])"
            ]
          },
          "metadata": {
            "tags": []
          },
          "execution_count": 25
        }
      ]
    }
  ]
}