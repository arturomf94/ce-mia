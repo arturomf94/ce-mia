{
  "nbformat": 4,
  "nbformat_minor": 0,
  "metadata": {
    "colab": {
      "name": "sbx.ipynb",
      "version": "0.3.2",
      "provenance": [],
      "collapsed_sections": [],
      "include_colab_link": true
    },
    "kernelspec": {
      "name": "python3",
      "display_name": "Python 3"
    }
  },
  "cells": [
    {
      "cell_type": "markdown",
      "metadata": {
        "id": "view-in-github",
        "colab_type": "text"
      },
      "source": [
        "<a href=\"https://colab.research.google.com/github/arturomf94/ce-mia/blob/master/sbx/sbx.ipynb\" target=\"_parent\"><img src=\"https://colab.research.google.com/assets/colab-badge.svg\" alt=\"Open In Colab\"/></a>"
      ]
    },
    {
      "metadata": {
        "id": "6MQ7w98jnVGz",
        "colab_type": "code",
        "colab": {}
      },
      "cell_type": "code",
      "source": [
        "import random\n",
        "import matplotlib.pyplot as plt"
      ],
      "execution_count": 0,
      "outputs": []
    },
    {
      "metadata": {
        "id": "ZSevs3QHnzeU",
        "colab_type": "code",
        "colab": {}
      },
      "cell_type": "code",
      "source": [
        "def sbx(ind1, ind2, n):\n",
        "    for i, (x1, x2) in enumerate(zip(ind1, ind2)):\n",
        "        rand = random.random()\n",
        "        if rand <= 0.5:\n",
        "            beta = 2. * rand\n",
        "        else:\n",
        "            beta = 1. / (2. * (1. - rand))\n",
        "        beta **= 1. / (n + 1.)\n",
        "        ind1[i] = 0.5 * (((1 + beta) * x1) + ((1 - beta) * x2))\n",
        "        ind2[i] = 0.5 * (((1 - beta) * x1) + ((1 + beta) * x2))\n",
        "\n",
        "    return ind1, ind2"
      ],
      "execution_count": 0,
      "outputs": []
    },
    {
      "metadata": {
        "id": "VVP4rRYln70N",
        "colab_type": "code",
        "outputId": "b77228ad-90f6-4899-d825-3a131667de3a",
        "colab": {
          "base_uri": "https://localhost:8080/",
          "height": 52
        }
      },
      "cell_type": "code",
      "source": [
        "sbx([1.2345, 124.1241], [5.241, 132.1251], .0001)"
      ],
      "execution_count": 21,
      "outputs": [
        {
          "output_type": "execute_result",
          "data": {
            "text/plain": [
              "([3.0453566661104023, 124.04066114214552],\n",
              " [3.4301433338895975, 132.20853885785445])"
            ]
          },
          "metadata": {
            "tags": []
          },
          "execution_count": 21
        }
      ]
    },
    {
      "metadata": {
        "id": "jKQPb5Ktr4r4",
        "colab_type": "code",
        "colab": {}
      },
      "cell_type": "code",
      "source": [
        "ns = [0.00001, 0.0001, 0.001, .01, 1, 10, 100, 1000, 10000]\n",
        "sbxs1 = []\n",
        "sbxs2 = []\n",
        "p1 = [1.2345, 124.1241]\n",
        "p2 = [5.241, 132.1251]"
      ],
      "execution_count": 0,
      "outputs": []
    },
    {
      "metadata": {
        "id": "FAwGcdIntQLr",
        "colab_type": "code",
        "colab": {
          "base_uri": "https://localhost:8080/",
          "height": 173
        },
        "outputId": "810b7d6a-9de5-4640-dcbb-ecb406c96b42"
      },
      "cell_type": "code",
      "source": [
        "for ene in ns:\n",
        "  ch = sbx(p1,p2,ene)\n",
        "  sbxs1.append(tuple(ch[0]))\n",
        "  sbxs2.append(tuple(ch[1]))\n",
        "\n",
        "sbxs1"
      ],
      "execution_count": 47,
      "outputs": [
        {
          "output_type": "execute_result",
          "data": {
            "text/plain": [
              "[(-7.030357321877839, 120.966936069017),\n",
              " (-7.3805372083366, 111.69794094950548),\n",
              " (-2.1348090756527593, 104.21940890529567),\n",
              " (-0.26404874709251613, 101.70651762963026),\n",
              " (2.6489355268257007, 100.48606754680472),\n",
              " (2.6603413905944855, 100.53871907432556),\n",
              " (2.65127964525916, 101.38328092071778),\n",
              " (2.6512297245703147, 101.35544935156815),\n",
              " (2.6512522569525214, 101.35625219835943)]"
            ]
          },
          "metadata": {
            "tags": []
          },
          "execution_count": 47
        }
      ]
    },
    {
      "metadata": {
        "id": "FSbJUHKuR2GW",
        "colab_type": "code",
        "colab": {
          "base_uri": "https://localhost:8080/",
          "height": 173
        },
        "outputId": "49d1f3b9-16d0-4171-ca03-539f3d5425ef"
      },
      "cell_type": "code",
      "source": [
        "sbxs2"
      ],
      "execution_count": 50,
      "outputs": [
        {
          "output_type": "execute_result",
          "data": {
            "text/plain": [
              "[(13.505857321877839, 135.28226393098305),\n",
              " (13.8560372083366, 144.55125905049456),\n",
              " (8.610309075652758, 152.0297910947044),\n",
              " (6.739548747092515, 154.54268237036985),\n",
              " (3.8265644731742983, 155.7631324531954),\n",
              " (3.8151586094055125, 155.71048092567455),\n",
              " (3.824220354740838, 154.86591907928232),\n",
              " (3.8242702754296833, 154.8937506484319),\n",
              " (3.8242477430474766, 154.89294780164064)]"
            ]
          },
          "metadata": {
            "tags": []
          },
          "execution_count": 50
        }
      ]
    },
    {
      "metadata": {
        "id": "gJ_Wx_7CtsUo",
        "colab_type": "code",
        "colab": {
          "base_uri": "https://localhost:8080/",
          "height": 364
        },
        "outputId": "d802c0b8-e670-4f2d-d516-4f3b5325a171"
      },
      "cell_type": "code",
      "source": [
        "x1s, y1s = zip(*sbxs1)\n",
        "x2s, y2s = zip(*sbxs2)\n",
        "plt.scatter(x1s,y1s)"
      ],
      "execution_count": 48,
      "outputs": [
        {
          "output_type": "execute_result",
          "data": {
            "text/plain": [
              "<matplotlib.collections.PathCollection at 0x7fefdc207f60>"
            ]
          },
          "metadata": {
            "tags": []
          },
          "execution_count": 48
        },
        {
          "output_type": "display_data",
          "data": {
            "image/png": "[encoded data removed]",
            "text/plain": [
              "<Figure size 576x396 with 1 Axes>"
            ]
          },
          "metadata": {
            "tags": []
          }
        }
      ]
    },
    {
      "metadata": {
        "id": "biTQjW03Rf2p",
        "colab_type": "code",
        "colab": {
          "base_uri": "https://localhost:8080/",
          "height": 364
        },
        "outputId": "508d98f8-bf24-46fb-f5eb-dc75163e32a2"
      },
      "cell_type": "code",
      "source": [
        "plt.scatter(x2s,y2s)"
      ],
      "execution_count": 49,
      "outputs": [
        {
          "output_type": "execute_result",
          "data": {
            "text/plain": [
              "<matplotlib.collections.PathCollection at 0x7fefdc157550>"
            ]
          },
          "metadata": {
            "tags": []
          },
          "execution_count": 49
        },
        {
          "output_type": "display_data",
          "data": {
            "image/png": "[encoded data removed]",
            "text/plain": [
              "<Figure size 576x396 with 1 Axes>"
            ]
          },
          "metadata": {
            "tags": []
          }
        }
      ]
    }
  ]
}