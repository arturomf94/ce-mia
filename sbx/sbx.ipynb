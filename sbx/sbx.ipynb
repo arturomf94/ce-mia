{
  "nbformat": 4,
  "nbformat_minor": 0,
  "metadata": {
    "colab": {
      "name": "sbx.ipynb",
      "version": "0.3.2",
      "provenance": [],
      "include_colab_link": true
    },
    "kernelspec": {
      "name": "python3",
      "display_name": "Python 3"
    }
  },
  "cells": [
    {
      "cell_type": "markdown",
      "metadata": {
        "id": "view-in-github",
        "colab_type": "text"
      },
      "source": [
        "<a href=\"https://colab.research.google.com/github/arturomf94/ce-mia/blob/master/sbx/sbx.ipynb\" target=\"_parent\"><img src=\"https://colab.research.google.com/assets/colab-badge.svg\" alt=\"Open In Colab\"/></a>"
      ]
    },
    {
      "metadata": {
        "id": "6MQ7w98jnVGz",
        "colab_type": "code",
        "colab": {}
      },
      "cell_type": "code",
      "source": [
        "import random\n",
        "import matplotlib.pyplot as plt"
      ],
      "execution_count": 0,
      "outputs": []
    },
    {
      "metadata": {
        "id": "ZSevs3QHnzeU",
        "colab_type": "code",
        "colab": {}
      },
      "cell_type": "code",
      "source": [
        "def sbx(ind1, ind2, n):\n",
        "    for i, (x1, x2) in enumerate(zip(ind1, ind2)):\n",
        "        rand = random.random()\n",
        "        if rand <= 0.5:\n",
        "            beta = 2. * rand\n",
        "        else:\n",
        "            beta = 1. / (2. * (1. - rand))\n",
        "        beta **= 1. / (n + 1.)\n",
        "        ind1[i] = 0.5 * (((1 + beta) * x1) + ((1 - beta) * x2))\n",
        "        ind2[i] = 0.5 * (((1 - beta) * x1) + ((1 + beta) * x2))\n",
        "\n",
        "    return ind1, ind2"
      ],
      "execution_count": 0,
      "outputs": []
    },
    {
      "metadata": {
        "id": "VVP4rRYln70N",
        "colab_type": "code",
        "outputId": "b77228ad-90f6-4899-d825-3a131667de3a",
        "colab": {
          "base_uri": "https://localhost:8080/",
          "height": 52
        }
      },
      "cell_type": "code",
      "source": [
        "sbx([1.2345, 124.1241], [5.241, 132.1251], .0001)"
      ],
      "execution_count": 21,
      "outputs": [
        {
          "output_type": "execute_result",
          "data": {
            "text/plain": [
              "([3.0453566661104023, 124.04066114214552],\n",
              " [3.4301433338895975, 132.20853885785445])"
            ]
          },
          "metadata": {
            "tags": []
          },
          "execution_count": 21
        }
      ]
    },
    {
      "metadata": {
        "id": "jKQPb5Ktr4r4",
        "colab_type": "code",
        "colab": {}
      },
      "cell_type": "code",
      "source": [
        "ns = [0.00001, 0.0001, 0.001, .01, 1, 10, 100, 1000, 10000]\n",
        "sbxs = []\n",
        "p1 = [1.2345, 124.1241]\n",
        "p2 = [5.241, 132.1251]"
      ],
      "execution_count": 0,
      "outputs": []
    },
    {
      "metadata": {
        "id": "FAwGcdIntQLr",
        "colab_type": "code",
        "colab": {
          "base_uri": "https://localhost:8080/",
          "height": 330
        },
        "outputId": "95a38b6e-93f4-4e81-8b1c-2f50ec0191ca"
      },
      "cell_type": "code",
      "source": [
        "for ene in ns:\n",
        "  ch = sbx(p1,p2,ene)\n",
        "  sbxs.append(tuple(ch[0]))\n",
        "  sbxs.append(tuple(ch[1]))\n",
        "\n",
        "sbxs"
      ],
      "execution_count": 39,
      "outputs": [
        {
          "output_type": "execute_result",
          "data": {
            "text/plain": [
              "[(-12.98716655404106, 126.1472990934223),\n",
              " (19.462666554041057, 130.1019009065777),\n",
              " (-48.52087805143302, 122.37459502007101),\n",
              " (54.99637805143302, 133.87460497992902),\n",
              " (-66.89973728123786, 111.6439691459214),\n",
              " (73.37523728123786, 144.60523085407863),\n",
              " (-0.7909842765799837, 114.47675813141677),\n",
              " (7.26648427657998, 141.77244186858326),\n",
              " (-1.4408101885689528, 103.3130273627853),\n",
              " (7.916310188568949, 152.93617263721475),\n",
              " (-1.6472061684690513, 100.95950092668348),\n",
              " (8.122706168469048, 155.28969907331663),\n",
              " (-1.645468433914769, 100.22673955931309),\n",
              " (8.120968433914767, 156.02246044068704),\n",
              " (-1.6389426600239487, 100.25631354566951),\n",
              " (8.114442660023945, 155.9928864543306),\n",
              " (-1.6386926532985526, 100.25874633257789),\n",
              " (8.114192653298549, 155.99045366742223)]"
            ]
          },
          "metadata": {
            "tags": []
          },
          "execution_count": 39
        }
      ]
    },
    {
      "metadata": {
        "id": "gJ_Wx_7CtsUo",
        "colab_type": "code",
        "colab": {
          "base_uri": "https://localhost:8080/",
          "height": 364
        },
        "outputId": "452202c7-9966-4573-895e-c21b6d1279d6"
      },
      "cell_type": "code",
      "source": [
        "p1s, p2s = zip(*sbxs)\n",
        "sbxs\n",
        "plt.scatter(p1s,p2s)"
      ],
      "execution_count": 42,
      "outputs": [
        {
          "output_type": "execute_result",
          "data": {
            "text/plain": [
              "<matplotlib.collections.PathCollection at 0x7fefdc21fc88>"
            ]
          },
          "metadata": {
            "tags": []
          },
          "execution_count": 42
        },
        {
          "output_type": "display_data",
          "data": {
            "image/png": "[encoded data removed]",
            "text/plain": [
              "<Figure size 576x396 with 1 Axes>"
            ]
          },
          "metadata": {
            "tags": []
          }
        }
      ]
    }
  ]
}